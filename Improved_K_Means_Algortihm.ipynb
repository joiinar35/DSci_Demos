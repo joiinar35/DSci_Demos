{
  "nbformat": 4,
  "nbformat_minor": 0,
  "metadata": {
    "colab": {
      "provenance": [],
      "mount_file_id": "https://github.com/joiinar35/DSci_Demos/blob/main/Improved_K_Means_Algortihm.ipynb",
      "authorship_tag": "ABX9TyP0vFnAvK3hVwOw14H/ls5F",
      "include_colab_link": true
    },
    "kernelspec": {
      "name": "python3",
      "display_name": "Python 3"
    },
    "language_info": {
      "name": "python"
    }
  },
  "cells": [
    {
      "cell_type": "markdown",
      "metadata": {
        "id": "view-in-github",
        "colab_type": "text"
      },
      "source": [
        "<a href=\"https://colab.research.google.com/github/joiinar35/DSci_Demos/blob/main/Improved_K_Means_Algortihm.ipynb\" target=\"_parent\"><img src=\"https://colab.research.google.com/assets/colab-badge.svg\" alt=\"Open In Colab\"/></a>"
      ]
    },
    {
      "cell_type": "markdown",
      "source": [
        "# **Improved K-Means Algortihm for Optimal Location of Geomagnetic Field Interpolation Points at the Earth's Surface**\n",
        "\n",
        "\n",
        "\n",
        "\n",
        "### Author: Ramon Caraballo ###"
      ],
      "metadata": {
        "id": "gR9tUnIbhdhT"
      }
    },
    {
      "cell_type": "markdown",
      "source": [
        "##**Objective**\n",
        "\n"
      ],
      "metadata": {
        "id": "PTbb7z1BiQtG"
      }
    },
    {
      "cell_type": "markdown",
      "source": [
        "Given a set of *N* observation points, find the optimal number of clusters in which all the points can be distributed. Additionally, the clusters must have an approximate radius *r*, predefined."
      ],
      "metadata": {
        "id": "i9IL8qZhiZsu"
      }
    },
    {
      "cell_type": "markdown",
      "source": [
        "### **Data Ingestion**\n",
        "We load some pakages"
      ],
      "metadata": {
        "id": "zRSaAD23uwZo"
      }
    },
    {
      "cell_type": "code",
      "source": [
        "import numpy as np\n",
        "import pandas as pd\n",
        "import geopandas as gpd\n",
        "import matplotlib.pyplot as plt\n"
      ],
      "metadata": {
        "id": "Q3_oS2fRugfA"
      },
      "execution_count": 8,
      "outputs": []
    },
    {
      "cell_type": "markdown",
      "source": [
        "We load the input data (i.e. the observation pts data) into a pandas dataframe."
      ],
      "metadata": {
        "id": "uakosYe4ynfZ"
      }
    },
    {
      "cell_type": "code",
      "source": [
        "file_path ='/content/drive/MyDrive/Colab Notebooks/nodos400-230v5.csv'\n",
        "\n",
        "df=pd.read_csv(file_path, index_col='nodo', usecols=['nodo','Subestacion', 'Lat', 'Long'])\n",
        "\n",
        "df.head()"
      ],
      "metadata": {
        "colab": {
          "base_uri": "https://localhost:8080/",
          "height": 238
        },
        "id": "E2pEtu47x92O",
        "outputId": "4c766e02-63fd-457f-e954-3937cc92b10e"
      },
      "execution_count": 11,
      "outputs": [
        {
          "output_type": "execute_result",
          "data": {
            "text/plain": [
              "                 Subestacion      Lat      Long\n",
              "nodo                                           \n",
              "1                    Bacum 2  27.5160 -110.0727\n",
              "2     Los Mochis (Choacahui)  25.9759 -109.0179\n",
              "3      Culiacan (La Higuera)  24.6988 -107.5069\n",
              "4                   Mazatlan  23.1898 -106.3522\n",
              "5                      Tepic  21.5808 -104.9357"
            ],
            "text/html": [
              "\n",
              "  <div id=\"df-6cf2f9fc-1f9c-4758-813d-80d6882f4c83\" class=\"colab-df-container\">\n",
              "    <div>\n",
              "<style scoped>\n",
              "    .dataframe tbody tr th:only-of-type {\n",
              "        vertical-align: middle;\n",
              "    }\n",
              "\n",
              "    .dataframe tbody tr th {\n",
              "        vertical-align: top;\n",
              "    }\n",
              "\n",
              "    .dataframe thead th {\n",
              "        text-align: right;\n",
              "    }\n",
              "</style>\n",
              "<table border=\"1\" class=\"dataframe\">\n",
              "  <thead>\n",
              "    <tr style=\"text-align: right;\">\n",
              "      <th></th>\n",
              "      <th>Subestacion</th>\n",
              "      <th>Lat</th>\n",
              "      <th>Long</th>\n",
              "    </tr>\n",
              "    <tr>\n",
              "      <th>nodo</th>\n",
              "      <th></th>\n",
              "      <th></th>\n",
              "      <th></th>\n",
              "    </tr>\n",
              "  </thead>\n",
              "  <tbody>\n",
              "    <tr>\n",
              "      <th>1</th>\n",
              "      <td>Bacum 2</td>\n",
              "      <td>27.5160</td>\n",
              "      <td>-110.0727</td>\n",
              "    </tr>\n",
              "    <tr>\n",
              "      <th>2</th>\n",
              "      <td>Los Mochis (Choacahui)</td>\n",
              "      <td>25.9759</td>\n",
              "      <td>-109.0179</td>\n",
              "    </tr>\n",
              "    <tr>\n",
              "      <th>3</th>\n",
              "      <td>Culiacan (La Higuera)</td>\n",
              "      <td>24.6988</td>\n",
              "      <td>-107.5069</td>\n",
              "    </tr>\n",
              "    <tr>\n",
              "      <th>4</th>\n",
              "      <td>Mazatlan</td>\n",
              "      <td>23.1898</td>\n",
              "      <td>-106.3522</td>\n",
              "    </tr>\n",
              "    <tr>\n",
              "      <th>5</th>\n",
              "      <td>Tepic</td>\n",
              "      <td>21.5808</td>\n",
              "      <td>-104.9357</td>\n",
              "    </tr>\n",
              "  </tbody>\n",
              "</table>\n",
              "</div>\n",
              "    <div class=\"colab-df-buttons\">\n",
              "\n",
              "  <div class=\"colab-df-container\">\n",
              "    <button class=\"colab-df-convert\" onclick=\"convertToInteractive('df-6cf2f9fc-1f9c-4758-813d-80d6882f4c83')\"\n",
              "            title=\"Convert this dataframe to an interactive table.\"\n",
              "            style=\"display:none;\">\n",
              "\n",
              "  <svg xmlns=\"http://www.w3.org/2000/svg\" height=\"24px\" viewBox=\"0 -960 960 960\">\n",
              "    <path d=\"M120-120v-720h720v720H120Zm60-500h600v-160H180v160Zm220 220h160v-160H400v160Zm0 220h160v-160H400v160ZM180-400h160v-160H180v160Zm440 0h160v-160H620v160ZM180-180h160v-160H180v160Zm440 0h160v-160H620v160Z\"/>\n",
              "  </svg>\n",
              "    </button>\n",
              "\n",
              "  <style>\n",
              "    .colab-df-container {\n",
              "      display:flex;\n",
              "      gap: 12px;\n",
              "    }\n",
              "\n",
              "    .colab-df-convert {\n",
              "      background-color: #E8F0FE;\n",
              "      border: none;\n",
              "      border-radius: 50%;\n",
              "      cursor: pointer;\n",
              "      display: none;\n",
              "      fill: #1967D2;\n",
              "      height: 32px;\n",
              "      padding: 0 0 0 0;\n",
              "      width: 32px;\n",
              "    }\n",
              "\n",
              "    .colab-df-convert:hover {\n",
              "      background-color: #E2EBFA;\n",
              "      box-shadow: 0px 1px 2px rgba(60, 64, 67, 0.3), 0px 1px 3px 1px rgba(60, 64, 67, 0.15);\n",
              "      fill: #174EA6;\n",
              "    }\n",
              "\n",
              "    .colab-df-buttons div {\n",
              "      margin-bottom: 4px;\n",
              "    }\n",
              "\n",
              "    [theme=dark] .colab-df-convert {\n",
              "      background-color: #3B4455;\n",
              "      fill: #D2E3FC;\n",
              "    }\n",
              "\n",
              "    [theme=dark] .colab-df-convert:hover {\n",
              "      background-color: #434B5C;\n",
              "      box-shadow: 0px 1px 3px 1px rgba(0, 0, 0, 0.15);\n",
              "      filter: drop-shadow(0px 1px 2px rgba(0, 0, 0, 0.3));\n",
              "      fill: #FFFFFF;\n",
              "    }\n",
              "  </style>\n",
              "\n",
              "    <script>\n",
              "      const buttonEl =\n",
              "        document.querySelector('#df-6cf2f9fc-1f9c-4758-813d-80d6882f4c83 button.colab-df-convert');\n",
              "      buttonEl.style.display =\n",
              "        google.colab.kernel.accessAllowed ? 'block' : 'none';\n",
              "\n",
              "      async function convertToInteractive(key) {\n",
              "        const element = document.querySelector('#df-6cf2f9fc-1f9c-4758-813d-80d6882f4c83');\n",
              "        const dataTable =\n",
              "          await google.colab.kernel.invokeFunction('convertToInteractive',\n",
              "                                                    [key], {});\n",
              "        if (!dataTable) return;\n",
              "\n",
              "        const docLinkHtml = 'Like what you see? Visit the ' +\n",
              "          '<a target=\"_blank\" href=https://colab.research.google.com/notebooks/data_table.ipynb>data table notebook</a>'\n",
              "          + ' to learn more about interactive tables.';\n",
              "        element.innerHTML = '';\n",
              "        dataTable['output_type'] = 'display_data';\n",
              "        await google.colab.output.renderOutput(dataTable, element);\n",
              "        const docLink = document.createElement('div');\n",
              "        docLink.innerHTML = docLinkHtml;\n",
              "        element.appendChild(docLink);\n",
              "      }\n",
              "    </script>\n",
              "  </div>\n",
              "\n",
              "\n",
              "<div id=\"df-a4f0c21d-9464-42c1-a9b1-a5818d72c773\">\n",
              "  <button class=\"colab-df-quickchart\" onclick=\"quickchart('df-a4f0c21d-9464-42c1-a9b1-a5818d72c773')\"\n",
              "            title=\"Suggest charts\"\n",
              "            style=\"display:none;\">\n",
              "\n",
              "<svg xmlns=\"http://www.w3.org/2000/svg\" height=\"24px\"viewBox=\"0 0 24 24\"\n",
              "     width=\"24px\">\n",
              "    <g>\n",
              "        <path d=\"M19 3H5c-1.1 0-2 .9-2 2v14c0 1.1.9 2 2 2h14c1.1 0 2-.9 2-2V5c0-1.1-.9-2-2-2zM9 17H7v-7h2v7zm4 0h-2V7h2v10zm4 0h-2v-4h2v4z\"/>\n",
              "    </g>\n",
              "</svg>\n",
              "  </button>\n",
              "\n",
              "<style>\n",
              "  .colab-df-quickchart {\n",
              "      --bg-color: #E8F0FE;\n",
              "      --fill-color: #1967D2;\n",
              "      --hover-bg-color: #E2EBFA;\n",
              "      --hover-fill-color: #174EA6;\n",
              "      --disabled-fill-color: #AAA;\n",
              "      --disabled-bg-color: #DDD;\n",
              "  }\n",
              "\n",
              "  [theme=dark] .colab-df-quickchart {\n",
              "      --bg-color: #3B4455;\n",
              "      --fill-color: #D2E3FC;\n",
              "      --hover-bg-color: #434B5C;\n",
              "      --hover-fill-color: #FFFFFF;\n",
              "      --disabled-bg-color: #3B4455;\n",
              "      --disabled-fill-color: #666;\n",
              "  }\n",
              "\n",
              "  .colab-df-quickchart {\n",
              "    background-color: var(--bg-color);\n",
              "    border: none;\n",
              "    border-radius: 50%;\n",
              "    cursor: pointer;\n",
              "    display: none;\n",
              "    fill: var(--fill-color);\n",
              "    height: 32px;\n",
              "    padding: 0;\n",
              "    width: 32px;\n",
              "  }\n",
              "\n",
              "  .colab-df-quickchart:hover {\n",
              "    background-color: var(--hover-bg-color);\n",
              "    box-shadow: 0 1px 2px rgba(60, 64, 67, 0.3), 0 1px 3px 1px rgba(60, 64, 67, 0.15);\n",
              "    fill: var(--button-hover-fill-color);\n",
              "  }\n",
              "\n",
              "  .colab-df-quickchart-complete:disabled,\n",
              "  .colab-df-quickchart-complete:disabled:hover {\n",
              "    background-color: var(--disabled-bg-color);\n",
              "    fill: var(--disabled-fill-color);\n",
              "    box-shadow: none;\n",
              "  }\n",
              "\n",
              "  .colab-df-spinner {\n",
              "    border: 2px solid var(--fill-color);\n",
              "    border-color: transparent;\n",
              "    border-bottom-color: var(--fill-color);\n",
              "    animation:\n",
              "      spin 1s steps(1) infinite;\n",
              "  }\n",
              "\n",
              "  @keyframes spin {\n",
              "    0% {\n",
              "      border-color: transparent;\n",
              "      border-bottom-color: var(--fill-color);\n",
              "      border-left-color: var(--fill-color);\n",
              "    }\n",
              "    20% {\n",
              "      border-color: transparent;\n",
              "      border-left-color: var(--fill-color);\n",
              "      border-top-color: var(--fill-color);\n",
              "    }\n",
              "    30% {\n",
              "      border-color: transparent;\n",
              "      border-left-color: var(--fill-color);\n",
              "      border-top-color: var(--fill-color);\n",
              "      border-right-color: var(--fill-color);\n",
              "    }\n",
              "    40% {\n",
              "      border-color: transparent;\n",
              "      border-right-color: var(--fill-color);\n",
              "      border-top-color: var(--fill-color);\n",
              "    }\n",
              "    60% {\n",
              "      border-color: transparent;\n",
              "      border-right-color: var(--fill-color);\n",
              "    }\n",
              "    80% {\n",
              "      border-color: transparent;\n",
              "      border-right-color: var(--fill-color);\n",
              "      border-bottom-color: var(--fill-color);\n",
              "    }\n",
              "    90% {\n",
              "      border-color: transparent;\n",
              "      border-bottom-color: var(--fill-color);\n",
              "    }\n",
              "  }\n",
              "</style>\n",
              "\n",
              "  <script>\n",
              "    async function quickchart(key) {\n",
              "      const quickchartButtonEl =\n",
              "        document.querySelector('#' + key + ' button');\n",
              "      quickchartButtonEl.disabled = true;  // To prevent multiple clicks.\n",
              "      quickchartButtonEl.classList.add('colab-df-spinner');\n",
              "      try {\n",
              "        const charts = await google.colab.kernel.invokeFunction(\n",
              "            'suggestCharts', [key], {});\n",
              "      } catch (error) {\n",
              "        console.error('Error during call to suggestCharts:', error);\n",
              "      }\n",
              "      quickchartButtonEl.classList.remove('colab-df-spinner');\n",
              "      quickchartButtonEl.classList.add('colab-df-quickchart-complete');\n",
              "    }\n",
              "    (() => {\n",
              "      let quickchartButtonEl =\n",
              "        document.querySelector('#df-a4f0c21d-9464-42c1-a9b1-a5818d72c773 button');\n",
              "      quickchartButtonEl.style.display =\n",
              "        google.colab.kernel.accessAllowed ? 'block' : 'none';\n",
              "    })();\n",
              "  </script>\n",
              "</div>\n",
              "\n",
              "    </div>\n",
              "  </div>\n"
            ],
            "application/vnd.google.colaboratory.intrinsic+json": {
              "type": "dataframe",
              "variable_name": "df",
              "summary": "{\n  \"name\": \"df\",\n  \"rows\": 246,\n  \"fields\": [\n    {\n      \"column\": \"Subestacion\",\n      \"properties\": {\n        \"dtype\": \"string\",\n        \"num_unique_values\": 246,\n        \"samples\": [\n          \"Atlacomulco Potencia\",\n          \"Torreon Sur\",\n          \"Tuxtepec\"\n        ],\n        \"semantic_type\": \"\",\n        \"description\": \"\"\n      }\n    },\n    {\n      \"column\": \"Lat\",\n      \"properties\": {\n        \"dtype\": \"number\",\n        \"std\": 4.311493592846796,\n        \"min\": 14.5758,\n        \"max\": 32.7177,\n        \"num_unique_values\": 246,\n        \"samples\": [\n          19.766,\n          25.4567,\n          18.0287\n        ],\n        \"semantic_type\": \"\",\n        \"description\": \"\"\n      }\n    },\n    {\n      \"column\": \"Long\",\n      \"properties\": {\n        \"dtype\": \"number\",\n        \"std\": 6.269712408227314,\n        \"min\": -117.0672,\n        \"max\": -86.84699999999998,\n        \"num_unique_values\": 246,\n        \"samples\": [\n          -99.8564,\n          -103.307,\n          -96.1773\n        ],\n        \"semantic_type\": \"\",\n        \"description\": \"\"\n      }\n    }\n  ]\n}"
            }
          },
          "metadata": {},
          "execution_count": 11
        }
      ]
    },
    {
      "cell_type": "code",
      "source": [
        "df.info()"
      ],
      "metadata": {
        "colab": {
          "base_uri": "https://localhost:8080/"
        },
        "id": "L9u6arIW38Dq",
        "outputId": "b1cf6cbd-d695-43f5-8012-b2d775d8d52f"
      },
      "execution_count": 12,
      "outputs": [
        {
          "output_type": "stream",
          "name": "stdout",
          "text": [
            "<class 'pandas.core.frame.DataFrame'>\n",
            "Int64Index: 246 entries, 1 to 246\n",
            "Data columns (total 3 columns):\n",
            " #   Column       Non-Null Count  Dtype  \n",
            "---  ------       --------------  -----  \n",
            " 0   Subestacion  246 non-null    object \n",
            " 1   Lat          246 non-null    float64\n",
            " 2   Long         246 non-null    float64\n",
            "dtypes: float64(2), object(1)\n",
            "memory usage: 7.7+ KB\n"
          ]
        }
      ]
    },
    {
      "cell_type": "markdown",
      "source": [
        "Install geodatasets package (if not installed) and create a geodataframe with the dataframe data"
      ],
      "metadata": {
        "id": "Ca5RIGNQ2kdd"
      }
    },
    {
      "cell_type": "code",
      "source": [
        "!pip install geodatasets\n",
        "from geodatasets import get_path"
      ],
      "metadata": {
        "id": "KoK9X18F1C5C"
      },
      "execution_count": null,
      "outputs": []
    },
    {
      "cell_type": "code",
      "source": [
        "gdf = gpd.GeoDataFrame(\n",
        "    df, geometry=gpd.points_from_xy(df.Long, df.Lat), crs=\"EPSG:4326\")\n",
        "\n",
        "gdf.head()"
      ],
      "metadata": {
        "colab": {
          "base_uri": "https://localhost:8080/",
          "height": 238
        },
        "id": "v-e7OGAY4Eb1",
        "outputId": "34a961a4-ff54-4ba9-cd11-2a7ef83f6180"
      },
      "execution_count": 14,
      "outputs": [
        {
          "output_type": "execute_result",
          "data": {
            "text/plain": [
              "                 Subestacion      Lat      Long                     geometry\n",
              "nodo                                                                        \n",
              "1                    Bacum 2  27.5160 -110.0727  POINT (-110.07270 27.51600)\n",
              "2     Los Mochis (Choacahui)  25.9759 -109.0179  POINT (-109.01790 25.97590)\n",
              "3      Culiacan (La Higuera)  24.6988 -107.5069  POINT (-107.50690 24.69880)\n",
              "4                   Mazatlan  23.1898 -106.3522  POINT (-106.35220 23.18980)\n",
              "5                      Tepic  21.5808 -104.9357  POINT (-104.93570 21.58080)"
            ],
            "text/html": [
              "\n",
              "  <div id=\"df-9568dc7b-fd3a-482a-8d40-3209a0bb3c7b\" class=\"colab-df-container\">\n",
              "    <div>\n",
              "<style scoped>\n",
              "    .dataframe tbody tr th:only-of-type {\n",
              "        vertical-align: middle;\n",
              "    }\n",
              "\n",
              "    .dataframe tbody tr th {\n",
              "        vertical-align: top;\n",
              "    }\n",
              "\n",
              "    .dataframe thead th {\n",
              "        text-align: right;\n",
              "    }\n",
              "</style>\n",
              "<table border=\"1\" class=\"dataframe\">\n",
              "  <thead>\n",
              "    <tr style=\"text-align: right;\">\n",
              "      <th></th>\n",
              "      <th>Subestacion</th>\n",
              "      <th>Lat</th>\n",
              "      <th>Long</th>\n",
              "      <th>geometry</th>\n",
              "    </tr>\n",
              "    <tr>\n",
              "      <th>nodo</th>\n",
              "      <th></th>\n",
              "      <th></th>\n",
              "      <th></th>\n",
              "      <th></th>\n",
              "    </tr>\n",
              "  </thead>\n",
              "  <tbody>\n",
              "    <tr>\n",
              "      <th>1</th>\n",
              "      <td>Bacum 2</td>\n",
              "      <td>27.5160</td>\n",
              "      <td>-110.0727</td>\n",
              "      <td>POINT (-110.07270 27.51600)</td>\n",
              "    </tr>\n",
              "    <tr>\n",
              "      <th>2</th>\n",
              "      <td>Los Mochis (Choacahui)</td>\n",
              "      <td>25.9759</td>\n",
              "      <td>-109.0179</td>\n",
              "      <td>POINT (-109.01790 25.97590)</td>\n",
              "    </tr>\n",
              "    <tr>\n",
              "      <th>3</th>\n",
              "      <td>Culiacan (La Higuera)</td>\n",
              "      <td>24.6988</td>\n",
              "      <td>-107.5069</td>\n",
              "      <td>POINT (-107.50690 24.69880)</td>\n",
              "    </tr>\n",
              "    <tr>\n",
              "      <th>4</th>\n",
              "      <td>Mazatlan</td>\n",
              "      <td>23.1898</td>\n",
              "      <td>-106.3522</td>\n",
              "      <td>POINT (-106.35220 23.18980)</td>\n",
              "    </tr>\n",
              "    <tr>\n",
              "      <th>5</th>\n",
              "      <td>Tepic</td>\n",
              "      <td>21.5808</td>\n",
              "      <td>-104.9357</td>\n",
              "      <td>POINT (-104.93570 21.58080)</td>\n",
              "    </tr>\n",
              "  </tbody>\n",
              "</table>\n",
              "</div>\n",
              "    <div class=\"colab-df-buttons\">\n",
              "\n",
              "  <div class=\"colab-df-container\">\n",
              "    <button class=\"colab-df-convert\" onclick=\"convertToInteractive('df-9568dc7b-fd3a-482a-8d40-3209a0bb3c7b')\"\n",
              "            title=\"Convert this dataframe to an interactive table.\"\n",
              "            style=\"display:none;\">\n",
              "\n",
              "  <svg xmlns=\"http://www.w3.org/2000/svg\" height=\"24px\" viewBox=\"0 -960 960 960\">\n",
              "    <path d=\"M120-120v-720h720v720H120Zm60-500h600v-160H180v160Zm220 220h160v-160H400v160Zm0 220h160v-160H400v160ZM180-400h160v-160H180v160Zm440 0h160v-160H620v160ZM180-180h160v-160H180v160Zm440 0h160v-160H620v160Z\"/>\n",
              "  </svg>\n",
              "    </button>\n",
              "\n",
              "  <style>\n",
              "    .colab-df-container {\n",
              "      display:flex;\n",
              "      gap: 12px;\n",
              "    }\n",
              "\n",
              "    .colab-df-convert {\n",
              "      background-color: #E8F0FE;\n",
              "      border: none;\n",
              "      border-radius: 50%;\n",
              "      cursor: pointer;\n",
              "      display: none;\n",
              "      fill: #1967D2;\n",
              "      height: 32px;\n",
              "      padding: 0 0 0 0;\n",
              "      width: 32px;\n",
              "    }\n",
              "\n",
              "    .colab-df-convert:hover {\n",
              "      background-color: #E2EBFA;\n",
              "      box-shadow: 0px 1px 2px rgba(60, 64, 67, 0.3), 0px 1px 3px 1px rgba(60, 64, 67, 0.15);\n",
              "      fill: #174EA6;\n",
              "    }\n",
              "\n",
              "    .colab-df-buttons div {\n",
              "      margin-bottom: 4px;\n",
              "    }\n",
              "\n",
              "    [theme=dark] .colab-df-convert {\n",
              "      background-color: #3B4455;\n",
              "      fill: #D2E3FC;\n",
              "    }\n",
              "\n",
              "    [theme=dark] .colab-df-convert:hover {\n",
              "      background-color: #434B5C;\n",
              "      box-shadow: 0px 1px 3px 1px rgba(0, 0, 0, 0.15);\n",
              "      filter: drop-shadow(0px 1px 2px rgba(0, 0, 0, 0.3));\n",
              "      fill: #FFFFFF;\n",
              "    }\n",
              "  </style>\n",
              "\n",
              "    <script>\n",
              "      const buttonEl =\n",
              "        document.querySelector('#df-9568dc7b-fd3a-482a-8d40-3209a0bb3c7b button.colab-df-convert');\n",
              "      buttonEl.style.display =\n",
              "        google.colab.kernel.accessAllowed ? 'block' : 'none';\n",
              "\n",
              "      async function convertToInteractive(key) {\n",
              "        const element = document.querySelector('#df-9568dc7b-fd3a-482a-8d40-3209a0bb3c7b');\n",
              "        const dataTable =\n",
              "          await google.colab.kernel.invokeFunction('convertToInteractive',\n",
              "                                                    [key], {});\n",
              "        if (!dataTable) return;\n",
              "\n",
              "        const docLinkHtml = 'Like what you see? Visit the ' +\n",
              "          '<a target=\"_blank\" href=https://colab.research.google.com/notebooks/data_table.ipynb>data table notebook</a>'\n",
              "          + ' to learn more about interactive tables.';\n",
              "        element.innerHTML = '';\n",
              "        dataTable['output_type'] = 'display_data';\n",
              "        await google.colab.output.renderOutput(dataTable, element);\n",
              "        const docLink = document.createElement('div');\n",
              "        docLink.innerHTML = docLinkHtml;\n",
              "        element.appendChild(docLink);\n",
              "      }\n",
              "    </script>\n",
              "  </div>\n",
              "\n",
              "\n",
              "<div id=\"df-8aea7690-14af-4843-8219-1aebf2df2e5b\">\n",
              "  <button class=\"colab-df-quickchart\" onclick=\"quickchart('df-8aea7690-14af-4843-8219-1aebf2df2e5b')\"\n",
              "            title=\"Suggest charts\"\n",
              "            style=\"display:none;\">\n",
              "\n",
              "<svg xmlns=\"http://www.w3.org/2000/svg\" height=\"24px\"viewBox=\"0 0 24 24\"\n",
              "     width=\"24px\">\n",
              "    <g>\n",
              "        <path d=\"M19 3H5c-1.1 0-2 .9-2 2v14c0 1.1.9 2 2 2h14c1.1 0 2-.9 2-2V5c0-1.1-.9-2-2-2zM9 17H7v-7h2v7zm4 0h-2V7h2v10zm4 0h-2v-4h2v4z\"/>\n",
              "    </g>\n",
              "</svg>\n",
              "  </button>\n",
              "\n",
              "<style>\n",
              "  .colab-df-quickchart {\n",
              "      --bg-color: #E8F0FE;\n",
              "      --fill-color: #1967D2;\n",
              "      --hover-bg-color: #E2EBFA;\n",
              "      --hover-fill-color: #174EA6;\n",
              "      --disabled-fill-color: #AAA;\n",
              "      --disabled-bg-color: #DDD;\n",
              "  }\n",
              "\n",
              "  [theme=dark] .colab-df-quickchart {\n",
              "      --bg-color: #3B4455;\n",
              "      --fill-color: #D2E3FC;\n",
              "      --hover-bg-color: #434B5C;\n",
              "      --hover-fill-color: #FFFFFF;\n",
              "      --disabled-bg-color: #3B4455;\n",
              "      --disabled-fill-color: #666;\n",
              "  }\n",
              "\n",
              "  .colab-df-quickchart {\n",
              "    background-color: var(--bg-color);\n",
              "    border: none;\n",
              "    border-radius: 50%;\n",
              "    cursor: pointer;\n",
              "    display: none;\n",
              "    fill: var(--fill-color);\n",
              "    height: 32px;\n",
              "    padding: 0;\n",
              "    width: 32px;\n",
              "  }\n",
              "\n",
              "  .colab-df-quickchart:hover {\n",
              "    background-color: var(--hover-bg-color);\n",
              "    box-shadow: 0 1px 2px rgba(60, 64, 67, 0.3), 0 1px 3px 1px rgba(60, 64, 67, 0.15);\n",
              "    fill: var(--button-hover-fill-color);\n",
              "  }\n",
              "\n",
              "  .colab-df-quickchart-complete:disabled,\n",
              "  .colab-df-quickchart-complete:disabled:hover {\n",
              "    background-color: var(--disabled-bg-color);\n",
              "    fill: var(--disabled-fill-color);\n",
              "    box-shadow: none;\n",
              "  }\n",
              "\n",
              "  .colab-df-spinner {\n",
              "    border: 2px solid var(--fill-color);\n",
              "    border-color: transparent;\n",
              "    border-bottom-color: var(--fill-color);\n",
              "    animation:\n",
              "      spin 1s steps(1) infinite;\n",
              "  }\n",
              "\n",
              "  @keyframes spin {\n",
              "    0% {\n",
              "      border-color: transparent;\n",
              "      border-bottom-color: var(--fill-color);\n",
              "      border-left-color: var(--fill-color);\n",
              "    }\n",
              "    20% {\n",
              "      border-color: transparent;\n",
              "      border-left-color: var(--fill-color);\n",
              "      border-top-color: var(--fill-color);\n",
              "    }\n",
              "    30% {\n",
              "      border-color: transparent;\n",
              "      border-left-color: var(--fill-color);\n",
              "      border-top-color: var(--fill-color);\n",
              "      border-right-color: var(--fill-color);\n",
              "    }\n",
              "    40% {\n",
              "      border-color: transparent;\n",
              "      border-right-color: var(--fill-color);\n",
              "      border-top-color: var(--fill-color);\n",
              "    }\n",
              "    60% {\n",
              "      border-color: transparent;\n",
              "      border-right-color: var(--fill-color);\n",
              "    }\n",
              "    80% {\n",
              "      border-color: transparent;\n",
              "      border-right-color: var(--fill-color);\n",
              "      border-bottom-color: var(--fill-color);\n",
              "    }\n",
              "    90% {\n",
              "      border-color: transparent;\n",
              "      border-bottom-color: var(--fill-color);\n",
              "    }\n",
              "  }\n",
              "</style>\n",
              "\n",
              "  <script>\n",
              "    async function quickchart(key) {\n",
              "      const quickchartButtonEl =\n",
              "        document.querySelector('#' + key + ' button');\n",
              "      quickchartButtonEl.disabled = true;  // To prevent multiple clicks.\n",
              "      quickchartButtonEl.classList.add('colab-df-spinner');\n",
              "      try {\n",
              "        const charts = await google.colab.kernel.invokeFunction(\n",
              "            'suggestCharts', [key], {});\n",
              "      } catch (error) {\n",
              "        console.error('Error during call to suggestCharts:', error);\n",
              "      }\n",
              "      quickchartButtonEl.classList.remove('colab-df-spinner');\n",
              "      quickchartButtonEl.classList.add('colab-df-quickchart-complete');\n",
              "    }\n",
              "    (() => {\n",
              "      let quickchartButtonEl =\n",
              "        document.querySelector('#df-8aea7690-14af-4843-8219-1aebf2df2e5b button');\n",
              "      quickchartButtonEl.style.display =\n",
              "        google.colab.kernel.accessAllowed ? 'block' : 'none';\n",
              "    })();\n",
              "  </script>\n",
              "</div>\n",
              "\n",
              "    </div>\n",
              "  </div>\n"
            ],
            "application/vnd.google.colaboratory.intrinsic+json": {
              "type": "dataframe",
              "variable_name": "gdf",
              "summary": "{\n  \"name\": \"gdf\",\n  \"rows\": 246,\n  \"fields\": [\n    {\n      \"column\": \"Subestacion\",\n      \"properties\": {\n        \"dtype\": \"string\",\n        \"num_unique_values\": 246,\n        \"samples\": [\n          \"Atlacomulco Potencia\",\n          \"Torreon Sur\",\n          \"Tuxtepec\"\n        ],\n        \"semantic_type\": \"\",\n        \"description\": \"\"\n      }\n    },\n    {\n      \"column\": \"Lat\",\n      \"properties\": {\n        \"dtype\": \"number\",\n        \"std\": 4.311493592846796,\n        \"min\": 14.5758,\n        \"max\": 32.7177,\n        \"num_unique_values\": 246,\n        \"samples\": [\n          19.766,\n          25.4567,\n          18.0287\n        ],\n        \"semantic_type\": \"\",\n        \"description\": \"\"\n      }\n    },\n    {\n      \"column\": \"Long\",\n      \"properties\": {\n        \"dtype\": \"number\",\n        \"std\": 6.269712408227314,\n        \"min\": -117.0672,\n        \"max\": -86.84699999999998,\n        \"num_unique_values\": 246,\n        \"samples\": [\n          -99.8564,\n          -103.307,\n          -96.1773\n        ],\n        \"semantic_type\": \"\",\n        \"description\": \"\"\n      }\n    },\n    {\n      \"column\": \"geometry\",\n      \"properties\": {\n        \"dtype\": \"geometry\",\n        \"num_unique_values\": 246,\n        \"samples\": [\n          \"POINT (-99.8564 19.766)\",\n          \"POINT (-103.307 25.4567)\",\n          \"POINT (-96.1773 18.0287)\"\n        ],\n        \"semantic_type\": \"\",\n        \"description\": \"\"\n      }\n    }\n  ]\n}"
            }
          },
          "metadata": {},
          "execution_count": 14
        }
      ]
    },
    {
      "cell_type": "markdown",
      "source": [
        "I want to plot the input data in a map"
      ],
      "metadata": {
        "id": "TXcPE3Ps5E3A"
      }
    },
    {
      "cell_type": "code",
      "source": [
        "world = gpd.read_file(get_path(\"naturalearth.land\"))\n",
        "\n",
        "# We restrict to Mexican area.\n",
        "ax = world.clip([-120, 13, -86, 33.5]).plot(color=\"white\", edgecolor=\"black\")\n",
        "\n",
        "# We can now plot our ``GeoDataFrame``.\n",
        "gdf.plot(ax=ax, color=\"blue\", markersize=8)\n",
        "plt.title(\"Distribution of Points of Interest\")\n",
        "plt.xlabel('Long')\n",
        "plt.ylabel('Lat')\n",
        "plt.grid(True)\n",
        "plt.show()\n"
      ],
      "metadata": {
        "colab": {
          "base_uri": "https://localhost:8080/",
          "height": 469
        },
        "id": "JeYVOy3S5JUA",
        "outputId": "f84cb214-a177-4aed-9d1c-b000285833ef"
      },
      "execution_count": 15,
      "outputs": [
        {
          "output_type": "stream",
          "name": "stderr",
          "text": [
            "Downloading file 'ne_110m_land.zip' from 'https://naciscdn.org/naturalearth/110m/physical/ne_110m_land.zip' to '/root/.cache/geodatasets'.\n"
          ]
        },
        {
          "output_type": "display_data",
          "data": {
            "text/plain": [
              "<Figure size 640x480 with 1 Axes>"
            ],
            "image/png": "[encoded data removed]"
          },
          "metadata": {}
        }
      ]
    },
    {
      "cell_type": "markdown",
      "source": [
        "Now we start to fine tune the K-Means Algorithm\n",
        "\n",
        "Define a mean cluster radius of *r=150 km*  corresponds to a separation of near 2.5 degrees in latitude and longitude.\n",
        "We start with k=5 clusters and will find the optimal value for k.\n",
        "\n"
      ],
      "metadata": {
        "id": "q6FYawua8hrW"
      }
    },
    {
      "cell_type": "code",
      "source": [
        "from sklearn.cluster import KMeans\n",
        "from sklearn import preprocessing\n",
        "import sklearn.cluster as cluster\n",
        "import sklearn.metrics as metrics\n",
        "from sklearn.preprocessing import RobustScaler, StandardScaler"
      ],
      "metadata": {
        "id": "8tL9apPX9Ohq"
      },
      "execution_count": 16,
      "outputs": []
    },
    {
      "cell_type": "markdown",
      "source": [
        "Clustering algorithms like K-means require feature scaling of the data as part of data preprocessing to produce good results. This is because clustering techniques use distance calculation between the data points. Hence it is proper to bring data of different units under a common scale.\n",
        "\n",
        "We choose Robist scaler because our points not neccesarily are Normal distributed and some of them behaves like outliers.\n",
        "Robust-Scaler is calculated by using the interquartile range(IQR), here, IQR is the range between the 1st quartile (25th quantile) and the 3rd quartile (75th quantile). It can handle outlier data points as well."
      ],
      "metadata": {
        "id": "9-9JdUEwEmZT"
      }
    },
    {
      "cell_type": "code",
      "source": [
        "scaler=RobustScaler()\n",
        "scale = scaler.fit_transform(gdf[['Lat','Long']])\n",
        "gdf_scale = pd.DataFrame(scale, columns = ['Lat','Long']);\n",
        "\n",
        "gdf_scale.head()"
      ],
      "metadata": {
        "colab": {
          "base_uri": "https://localhost:8080/",
          "height": 206
        },
        "id": "knTGBSaNGzFX",
        "outputId": "04717c9c-e37a-402a-8af4-bac67131c0d1"
      },
      "execution_count": 17,
      "outputs": [
        {
          "output_type": "execute_result",
          "data": {
            "text/plain": [
              "        Lat      Long\n",
              "0  0.900409 -1.269699\n",
              "1  0.657939 -1.121113\n",
              "2  0.456876 -0.908264\n",
              "3  0.219303 -0.745606\n",
              "4 -0.034014 -0.546069"
            ],
            "text/html": [
              "\n",
              "  <div id=\"df-801c6b56-e886-42da-b432-b8a13d39d334\" class=\"colab-df-container\">\n",
              "    <div>\n",
              "<style scoped>\n",
              "    .dataframe tbody tr th:only-of-type {\n",
              "        vertical-align: middle;\n",
              "    }\n",
              "\n",
              "    .dataframe tbody tr th {\n",
              "        vertical-align: top;\n",
              "    }\n",
              "\n",
              "    .dataframe thead th {\n",
              "        text-align: right;\n",
              "    }\n",
              "</style>\n",
              "<table border=\"1\" class=\"dataframe\">\n",
              "  <thead>\n",
              "    <tr style=\"text-align: right;\">\n",
              "      <th></th>\n",
              "      <th>Lat</th>\n",
              "      <th>Long</th>\n",
              "    </tr>\n",
              "  </thead>\n",
              "  <tbody>\n",
              "    <tr>\n",
              "      <th>0</th>\n",
              "      <td>0.900409</td>\n",
              "      <td>-1.269699</td>\n",
              "    </tr>\n",
              "    <tr>\n",
              "      <th>1</th>\n",
              "      <td>0.657939</td>\n",
              "      <td>-1.121113</td>\n",
              "    </tr>\n",
              "    <tr>\n",
              "      <th>2</th>\n",
              "      <td>0.456876</td>\n",
              "      <td>-0.908264</td>\n",
              "    </tr>\n",
              "    <tr>\n",
              "      <th>3</th>\n",
              "      <td>0.219303</td>\n",
              "      <td>-0.745606</td>\n",
              "    </tr>\n",
              "    <tr>\n",
              "      <th>4</th>\n",
              "      <td>-0.034014</td>\n",
              "      <td>-0.546069</td>\n",
              "    </tr>\n",
              "  </tbody>\n",
              "</table>\n",
              "</div>\n",
              "    <div class=\"colab-df-buttons\">\n",
              "\n",
              "  <div class=\"colab-df-container\">\n",
              "    <button class=\"colab-df-convert\" onclick=\"convertToInteractive('df-801c6b56-e886-42da-b432-b8a13d39d334')\"\n",
              "            title=\"Convert this dataframe to an interactive table.\"\n",
              "            style=\"display:none;\">\n",
              "\n",
              "  <svg xmlns=\"http://www.w3.org/2000/svg\" height=\"24px\" viewBox=\"0 -960 960 960\">\n",
              "    <path d=\"M120-120v-720h720v720H120Zm60-500h600v-160H180v160Zm220 220h160v-160H400v160Zm0 220h160v-160H400v160ZM180-400h160v-160H180v160Zm440 0h160v-160H620v160ZM180-180h160v-160H180v160Zm440 0h160v-160H620v160Z\"/>\n",
              "  </svg>\n",
              "    </button>\n",
              "\n",
              "  <style>\n",
              "    .colab-df-container {\n",
              "      display:flex;\n",
              "      gap: 12px;\n",
              "    }\n",
              "\n",
              "    .colab-df-convert {\n",
              "      background-color: #E8F0FE;\n",
              "      border: none;\n",
              "      border-radius: 50%;\n",
              "      cursor: pointer;\n",
              "      display: none;\n",
              "      fill: #1967D2;\n",
              "      height: 32px;\n",
              "      padding: 0 0 0 0;\n",
              "      width: 32px;\n",
              "    }\n",
              "\n",
              "    .colab-df-convert:hover {\n",
              "      background-color: #E2EBFA;\n",
              "      box-shadow: 0px 1px 2px rgba(60, 64, 67, 0.3), 0px 1px 3px 1px rgba(60, 64, 67, 0.15);\n",
              "      fill: #174EA6;\n",
              "    }\n",
              "\n",
              "    .colab-df-buttons div {\n",
              "      margin-bottom: 4px;\n",
              "    }\n",
              "\n",
              "    [theme=dark] .colab-df-convert {\n",
              "      background-color: #3B4455;\n",
              "      fill: #D2E3FC;\n",
              "    }\n",
              "\n",
              "    [theme=dark] .colab-df-convert:hover {\n",
              "      background-color: #434B5C;\n",
              "      box-shadow: 0px 1px 3px 1px rgba(0, 0, 0, 0.15);\n",
              "      filter: drop-shadow(0px 1px 2px rgba(0, 0, 0, 0.3));\n",
              "      fill: #FFFFFF;\n",
              "    }\n",
              "  </style>\n",
              "\n",
              "    <script>\n",
              "      const buttonEl =\n",
              "        document.querySelector('#df-801c6b56-e886-42da-b432-b8a13d39d334 button.colab-df-convert');\n",
              "      buttonEl.style.display =\n",
              "        google.colab.kernel.accessAllowed ? 'block' : 'none';\n",
              "\n",
              "      async function convertToInteractive(key) {\n",
              "        const element = document.querySelector('#df-801c6b56-e886-42da-b432-b8a13d39d334');\n",
              "        const dataTable =\n",
              "          await google.colab.kernel.invokeFunction('convertToInteractive',\n",
              "                                                    [key], {});\n",
              "        if (!dataTable) return;\n",
              "\n",
              "        const docLinkHtml = 'Like what you see? Visit the ' +\n",
              "          '<a target=\"_blank\" href=https://colab.research.google.com/notebooks/data_table.ipynb>data table notebook</a>'\n",
              "          + ' to learn more about interactive tables.';\n",
              "        element.innerHTML = '';\n",
              "        dataTable['output_type'] = 'display_data';\n",
              "        await google.colab.output.renderOutput(dataTable, element);\n",
              "        const docLink = document.createElement('div');\n",
              "        docLink.innerHTML = docLinkHtml;\n",
              "        element.appendChild(docLink);\n",
              "      }\n",
              "    </script>\n",
              "  </div>\n",
              "\n",
              "\n",
              "<div id=\"df-777287e9-f3ce-4533-a9c6-b6bb9fd80f22\">\n",
              "  <button class=\"colab-df-quickchart\" onclick=\"quickchart('df-777287e9-f3ce-4533-a9c6-b6bb9fd80f22')\"\n",
              "            title=\"Suggest charts\"\n",
              "            style=\"display:none;\">\n",
              "\n",
              "<svg xmlns=\"http://www.w3.org/2000/svg\" height=\"24px\"viewBox=\"0 0 24 24\"\n",
              "     width=\"24px\">\n",
              "    <g>\n",
              "        <path d=\"M19 3H5c-1.1 0-2 .9-2 2v14c0 1.1.9 2 2 2h14c1.1 0 2-.9 2-2V5c0-1.1-.9-2-2-2zM9 17H7v-7h2v7zm4 0h-2V7h2v10zm4 0h-2v-4h2v4z\"/>\n",
              "    </g>\n",
              "</svg>\n",
              "  </button>\n",
              "\n",
              "<style>\n",
              "  .colab-df-quickchart {\n",
              "      --bg-color: #E8F0FE;\n",
              "      --fill-color: #1967D2;\n",
              "      --hover-bg-color: #E2EBFA;\n",
              "      --hover-fill-color: #174EA6;\n",
              "      --disabled-fill-color: #AAA;\n",
              "      --disabled-bg-color: #DDD;\n",
              "  }\n",
              "\n",
              "  [theme=dark] .colab-df-quickchart {\n",
              "      --bg-color: #3B4455;\n",
              "      --fill-color: #D2E3FC;\n",
              "      --hover-bg-color: #434B5C;\n",
              "      --hover-fill-color: #FFFFFF;\n",
              "      --disabled-bg-color: #3B4455;\n",
              "      --disabled-fill-color: #666;\n",
              "  }\n",
              "\n",
              "  .colab-df-quickchart {\n",
              "    background-color: var(--bg-color);\n",
              "    border: none;\n",
              "    border-radius: 50%;\n",
              "    cursor: pointer;\n",
              "    display: none;\n",
              "    fill: var(--fill-color);\n",
              "    height: 32px;\n",
              "    padding: 0;\n",
              "    width: 32px;\n",
              "  }\n",
              "\n",
              "  .colab-df-quickchart:hover {\n",
              "    background-color: var(--hover-bg-color);\n",
              "    box-shadow: 0 1px 2px rgba(60, 64, 67, 0.3), 0 1px 3px 1px rgba(60, 64, 67, 0.15);\n",
              "    fill: var(--button-hover-fill-color);\n",
              "  }\n",
              "\n",
              "  .colab-df-quickchart-complete:disabled,\n",
              "  .colab-df-quickchart-complete:disabled:hover {\n",
              "    background-color: var(--disabled-bg-color);\n",
              "    fill: var(--disabled-fill-color);\n",
              "    box-shadow: none;\n",
              "  }\n",
              "\n",
              "  .colab-df-spinner {\n",
              "    border: 2px solid var(--fill-color);\n",
              "    border-color: transparent;\n",
              "    border-bottom-color: var(--fill-color);\n",
              "    animation:\n",
              "      spin 1s steps(1) infinite;\n",
              "  }\n",
              "\n",
              "  @keyframes spin {\n",
              "    0% {\n",
              "      border-color: transparent;\n",
              "      border-bottom-color: var(--fill-color);\n",
              "      border-left-color: var(--fill-color);\n",
              "    }\n",
              "    20% {\n",
              "      border-color: transparent;\n",
              "      border-left-color: var(--fill-color);\n",
              "      border-top-color: var(--fill-color);\n",
              "    }\n",
              "    30% {\n",
              "      border-color: transparent;\n",
              "      border-left-color: var(--fill-color);\n",
              "      border-top-color: var(--fill-color);\n",
              "      border-right-color: var(--fill-color);\n",
              "    }\n",
              "    40% {\n",
              "      border-color: transparent;\n",
              "      border-right-color: var(--fill-color);\n",
              "      border-top-color: var(--fill-color);\n",
              "    }\n",
              "    60% {\n",
              "      border-color: transparent;\n",
              "      border-right-color: var(--fill-color);\n",
              "    }\n",
              "    80% {\n",
              "      border-color: transparent;\n",
              "      border-right-color: var(--fill-color);\n",
              "      border-bottom-color: var(--fill-color);\n",
              "    }\n",
              "    90% {\n",
              "      border-color: transparent;\n",
              "      border-bottom-color: var(--fill-color);\n",
              "    }\n",
              "  }\n",
              "</style>\n",
              "\n",
              "  <script>\n",
              "    async function quickchart(key) {\n",
              "      const quickchartButtonEl =\n",
              "        document.querySelector('#' + key + ' button');\n",
              "      quickchartButtonEl.disabled = true;  // To prevent multiple clicks.\n",
              "      quickchartButtonEl.classList.add('colab-df-spinner');\n",
              "      try {\n",
              "        const charts = await google.colab.kernel.invokeFunction(\n",
              "            'suggestCharts', [key], {});\n",
              "      } catch (error) {\n",
              "        console.error('Error during call to suggestCharts:', error);\n",
              "      }\n",
              "      quickchartButtonEl.classList.remove('colab-df-spinner');\n",
              "      quickchartButtonEl.classList.add('colab-df-quickchart-complete');\n",
              "    }\n",
              "    (() => {\n",
              "      let quickchartButtonEl =\n",
              "        document.querySelector('#df-777287e9-f3ce-4533-a9c6-b6bb9fd80f22 button');\n",
              "      quickchartButtonEl.style.display =\n",
              "        google.colab.kernel.accessAllowed ? 'block' : 'none';\n",
              "    })();\n",
              "  </script>\n",
              "</div>\n",
              "\n",
              "    </div>\n",
              "  </div>\n"
            ],
            "application/vnd.google.colaboratory.intrinsic+json": {
              "type": "dataframe",
              "variable_name": "gdf_scale",
              "summary": "{\n  \"name\": \"gdf_scale\",\n  \"rows\": 246,\n  \"fields\": [\n    {\n      \"column\": \"Lat\",\n      \"properties\": {\n        \"dtype\": \"number\",\n        \"std\": 0.6787909729792767,\n        \"min\": -1.136864395105267,\n        \"max\": 1.719351829621088,\n        \"num_unique_values\": 246,\n        \"samples\": [\n          -0.3197320412958687,\n          0.5761978045334146,\n          -0.5932482908186358\n        ],\n        \"semantic_type\": \"\",\n        \"description\": \"\"\n      }\n    },\n    {\n      \"column\": \"Long\",\n      \"properties\": {\n        \"dtype\": \"number\",\n        \"std\": 0.8831918083691979,\n        \"min\": -2.254989311761989,\n        \"max\": 2.0020214328225765,\n        \"num_unique_values\": 246,\n        \"samples\": [\n          0.1694341044594793,\n          -0.31663949119056695,\n          0.6876956722320627\n        ],\n        \"semantic_type\": \"\",\n        \"description\": \"\"\n      }\n    }\n  ]\n}"
            }
          },
          "metadata": {},
          "execution_count": 17
        }
      ]
    },
    {
      "cell_type": "markdown",
      "source": [
        "### **Finding the optimum value of K** ###"
      ],
      "metadata": {
        "id": "K1-NFFjUJKXo"
      }
    },
    {
      "cell_type": "code",
      "source": [
        "from scipy.stats import iqr\n",
        "from scipy.spatial import distance\n",
        "\n",
        "gdata = gdf[['Lat','Long']].values\n",
        "\n",
        "iqrange = iqr(gdata, axis=0)\n",
        "\n",
        "medians = np.median(gdata, axis=0)\n",
        "\n",
        "print(f'iqr = {iqrange}, medians = {medians}')"
      ],
      "metadata": {
        "colab": {
          "base_uri": "https://localhost:8080/"
        },
        "id": "haN_JpmOEt9q",
        "outputId": "7170f4ba-f727-41ba-dd07-5a024304bd26"
      },
      "execution_count": 18,
      "outputs": [
        {
          "output_type": "stream",
          "name": "stdout",
          "text": [
            "iqr = [6.351725 7.098925], medians = [  21.79685 -101.0592 ]\n"
          ]
        }
      ]
    },
    {
      "cell_type": "code",
      "source": [
        "K=range(5,41)\n",
        "wss = []\n",
        "for k in K:\n",
        "    kmeans=cluster.KMeans(n_clusters=k, random_state=20)\n",
        "    kmeans=kmeans.fit(gdf_scale)\n",
        "    wss_iter = kmeans.inertia_\n",
        "    wss.append(wss_iter)"
      ],
      "metadata": {
        "id": "hLR2b871Kle1"
      },
      "execution_count": null,
      "outputs": []
    },
    {
      "cell_type": "code",
      "source": [
        "plt.xlabel('K')\n",
        "plt.ylabel('Within-Cluster-Sum of Squared Errors (WSS)')\n",
        "plt.title('Inertia vs k')\n",
        "plt.grid(True)\n",
        "plt.plot(K,wss)"
      ],
      "metadata": {
        "colab": {
          "base_uri": "https://localhost:8080/",
          "height": 490
        },
        "id": "O-iJ20yNK8CF",
        "outputId": "4b182da1-f3ab-476f-b84c-8090c4916918"
      },
      "execution_count": 20,
      "outputs": [
        {
          "output_type": "execute_result",
          "data": {
            "text/plain": [
              "[<matplotlib.lines.Line2D at 0x7e776ccd37f0>]"
            ]
          },
          "metadata": {},
          "execution_count": 20
        },
        {
          "output_type": "display_data",
          "data": {
            "text/plain": [
              "<Figure size 640x480 with 1 Axes>"
            ],
            "image/png": "[encoded data removed]"
          },
          "metadata": {}
        }
      ]
    },
    {
      "cell_type": "markdown",
      "source": [
        "According to the elbow method, k=9 o 10 seem to be the optimum values of k.\n",
        "Let try the Silhouette score"
      ],
      "metadata": {
        "id": "J8Cp6qq8TGoj"
      }
    },
    {
      "cell_type": "code",
      "source": [
        "from sklearn.metrics import silhouette_score\n",
        "ssc=[]\n",
        "K=range(5,40)\n",
        "for i in K:\n",
        "    clusterer=cluster.KMeans(n_clusters=i, random_state=20)\n",
        "    preds=clusterer.fit_predict(gdf_scale)\n",
        "    centers = clusterer.cluster_centers_\n",
        "\n",
        "\n",
        "    # Without sampling\n",
        "    #score = silhouette_score(gdf_scale, preds)\n",
        "\n",
        "    # With sampling\n",
        "    score = silhouette_score(gdf_scale, preds, sample_size=15, random_state=10)\n",
        "\n",
        "    print(i, score)\n",
        "    ssc.append(score)\n",
        "\n"
      ],
      "metadata": {
        "id": "l_2ZCK7uTRwL"
      },
      "execution_count": null,
      "outputs": []
    },
    {
      "cell_type": "code",
      "source": [
        "plt.xlabel('No. of Clusters K')\n",
        "plt.ylabel('Silhouette Score')\n",
        "plt.title('Silhouette score(SSC) vs Number of Clusters')\n",
        "plt.grid(True)\n",
        "plt.plot(K,ssc)"
      ],
      "metadata": {
        "colab": {
          "base_uri": "https://localhost:8080/",
          "height": 490
        },
        "id": "tSrH_RJIVVH5",
        "outputId": "e2b0e4bc-0814-4663-cb77-af30c60d733e"
      },
      "execution_count": 22,
      "outputs": [
        {
          "output_type": "execute_result",
          "data": {
            "text/plain": [
              "[<matplotlib.lines.Line2D at 0x7e776a389060>]"
            ]
          },
          "metadata": {},
          "execution_count": 22
        },
        {
          "output_type": "display_data",
          "data": {
            "text/plain": [
              "<Figure size 640x480 with 1 Axes>"
            ],
            "image/png": "[encoded data removed]"
          },
          "metadata": {}
        }
      ]
    },
    {
      "cell_type": "markdown",
      "source": [
        "According to the avg silhouette score, the values of k=9 & k=17 sounds good.\n",
        "We will chose k=17 as the number of clusters in order to fit into the required distance between centroids.\n",
        "Chosing k=9 will be nice but the distance between centroids maybe large. This might outfit twice the validity range of the magnetic observations *r=300 km*  "
      ],
      "metadata": {
        "id": "bPASLtELigCj"
      }
    },
    {
      "cell_type": "code",
      "source": [
        "k=17\n",
        "clusterer=cluster.KMeans(n_clusters=k,random_state=20)\n",
        "preds=clusterer.fit_predict(gdf_scale)\n",
        "centers = clusterer.cluster_centers_\n",
        "labels = clusterer.labels_\n",
        "\n",
        "print(centers, labels)\n",
        "\n",
        "plt.scatter(centers[:,0], centers[:,1])"
      ],
      "metadata": {
        "id": "CA87odYyzBYc"
      },
      "execution_count": null,
      "outputs": []
    },
    {
      "cell_type": "markdown",
      "source": [
        "Hence we start to fine tuning the optimum value of k.\n",
        " First, we calculate the matrix distance between centers."
      ],
      "metadata": {
        "id": "7Mpbsr2q6Fc4"
      }
    },
    {
      "cell_type": "code",
      "source": [
        "dmtx = np.zeros((k,k))\n",
        "\n",
        "\n",
        "for i in range(k-1):\n",
        "  for j in range(i+1,k):\n",
        "    dmtx[i,j]= distance.euclidean(centers[j], centers[i])\n",
        "\n",
        "#print(dmtx)"
      ],
      "metadata": {
        "id": "h7Jsx42-6NAM"
      },
      "execution_count": 26,
      "outputs": []
    },
    {
      "cell_type": "code",
      "source": [
        "Dmax=np.sqrt(sum(4/np.power(iqrange,2)))\n",
        "print(Dmax)"
      ],
      "metadata": {
        "colab": {
          "base_uri": "https://localhost:8080/"
        },
        "id": "X4JX9dn14gMh",
        "outputId": "26a2f104-e3b9-4fe5-814d-4b8cab82020b"
      },
      "execution_count": 27,
      "outputs": [
        {
          "output_type": "stream",
          "name": "stdout",
          "text": [
            "0.4225159090622885\n"
          ]
        }
      ]
    },
    {
      "cell_type": "code",
      "source": [
        "pm=np.empty(k-1)\n",
        "for j in range(k-1):\n",
        "  pm[j] = np.min(dmtx[j,j+1:k])\n",
        "\n",
        "mdist = np.median(pm)\n",
        "\n",
        "\n",
        "print(mdist)"
      ],
      "metadata": {
        "colab": {
          "base_uri": "https://localhost:8080/"
        },
        "id": "S4B4TCsgZGyT",
        "outputId": "55687863-f7a5-45ea-ad89-289fc33a6bc4"
      },
      "execution_count": 28,
      "outputs": [
        {
          "output_type": "stream",
          "name": "stdout",
          "text": [
            "0.5177147020806698\n"
          ]
        }
      ]
    },
    {
      "cell_type": "markdown",
      "source": [
        "As the median distance between centroids is of the order of the maximum distance allowed Dmax=*2r*,  for k >= 17 it is enough to consider k=17 as the optimum number of centroids. Next we convert their coordinates to geographical ones and plot into a map."
      ],
      "metadata": {
        "id": "UdlPpld0DcQ7"
      }
    },
    {
      "cell_type": "code",
      "source": [
        "# Geographical Coordinates of the centroids\n",
        "centroids = np.add(np.multiply(centers, iqrange), medians)\n",
        "\n",
        "dfk = pd.DataFrame({'Lat': centroids[:,0], 'Lon': centroids[:,1]})\n",
        "\n",
        "\n",
        "\n",
        "print(dfk)"
      ],
      "metadata": {
        "colab": {
          "base_uri": "https://localhost:8080/"
        },
        "id": "NCU1hVvJ-Ld_",
        "outputId": "e14c06f7-cdcb-4b36-bebd-b21a8765aed5"
      },
      "execution_count": 29,
      "outputs": [
        {
          "output_type": "stream",
          "name": "stdout",
          "text": [
            "          Lat         Lon\n",
            "0   19.068263  -97.100502\n",
            "1   24.629155 -111.043200\n",
            "2   24.336715 -103.075531\n",
            "3   16.965729  -93.759776\n",
            "4   30.360762 -111.159623\n",
            "5   18.274040 -101.980180\n",
            "6   26.292600 -100.034122\n",
            "7   20.747414  -88.069700\n",
            "8   21.013504 -101.321311\n",
            "9   28.863312 -106.048637\n",
            "10  32.418622 -116.495244\n",
            "11  20.496780 -103.815701\n",
            "12  27.312186 -109.702686\n",
            "13  18.509975  -90.721375\n",
            "14  25.142770 -107.999760\n",
            "15  22.227840  -98.215510\n",
            "16  19.431373  -99.214100\n"
          ]
        }
      ]
    },
    {
      "cell_type": "code",
      "source": [],
      "metadata": {
        "id": "vksu30SVccCX"
      },
      "execution_count": null,
      "outputs": []
    },
    {
      "cell_type": "code",
      "source": [
        "cgdf = gpd.GeoDataFrame(dfk, geometry=gpd.points_from_xy(dfk.Lon, dfk.Lat), crs=\"EPSG:4326\")\n",
        "\n",
        "\n",
        "\n",
        "world = gpd.read_file(get_path(\"naturalearth.land\"))\n",
        "\n",
        "# We restrict to Mexican area.\n",
        "ax = world.clip([-120, 13, -86, 33.5]).plot(color=\"white\", edgecolor=\"black\")\n",
        "\n",
        "gdf['cnum']=labels\n",
        "\n",
        "import matplotlib.colors as mcolors\n",
        "\n",
        "\n",
        "\n",
        "# We can now plot our ``GeoDataFrame``.\n",
        "gdf.plot(ax=ax, c=labels, markersize=8)\n",
        "cgdf.plot(ax=ax, color='red', markersize=12)\n",
        "\n",
        "plt.title(\"Points of Interest and Optimal Clustering Centers\")\n",
        "plt.xlabel('Long')\n",
        "plt.ylabel('Lat')\n",
        "plt.grid(False)\n",
        "plt.show()\n"
      ],
      "metadata": {
        "colab": {
          "base_uri": "https://localhost:8080/",
          "height": 454
        },
        "outputId": "b646f694-7b32-4339-f7ad-bc40a3b10d18",
        "id": "1ephQOjhM-t4"
      },
      "execution_count": 44,
      "outputs": [
        {
          "output_type": "display_data",
          "data": {
            "text/plain": [
              "<Figure size 640x480 with 1 Axes>"
            ],
            "image/png": "[encoded data removed]"
          },
          "metadata": {}
        }
      ]
    },
    {
      "cell_type": "markdown",
      "source": [
        "Finally, we export center info and updated input data into a couple of csv files."
      ],
      "metadata": {
        "id": "2bXJdaWOdv3Z"
      }
    },
    {
      "cell_type": "code",
      "source": [
        "df['cnum']=labels\n",
        "df.head()\n",
        "\n",
        "df.to_csv('observ_pts.csv')\n",
        "\n",
        "np.savetxt(\"cluster_centers.csv\", centers, delimiter = \",\")"
      ],
      "metadata": {
        "id": "RmEu7fU9d_kn"
      },
      "execution_count": 46,
      "outputs": []
    }
  ]
}